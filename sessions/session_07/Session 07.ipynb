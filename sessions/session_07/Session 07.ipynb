{
 "cells": [
  {
   "cell_type": "markdown",
   "metadata": {
    "slideshow": {
     "slide_type": "slide"
    }
   },
   "source": [
    "![](https://www.saa-authors.eu/picture/739/ftw_768/saa-mtcwmza4nzq5mq.jpg)"
   ]
  },
  {
   "cell_type": "markdown",
   "metadata": {
    "slideshow": {
     "slide_type": "subslide"
    }
   },
   "source": [
    "## How will teaching happen with the Corona lock-down?\n",
    "\n",
    "We will do it virtually just like today. Before the lecture starts we will share a link to Zoom (similar to: `https://itucph.zoom.us/<letter>/<number>`) via https://talk.itu.dk/channel/itu-devops-all.\n",
    "\n",
    "Likely teaching style will change a bit, i.e., your group work exercises... Let's see how it works today and then we will try to adjust.\n",
    "\n",
    "For your group project work find similar means of collaborating remotely on the projects. Likely, you have established such ways already, for example via talk.itu.dk/Slack/Skype/Discord/... and your CI/CD chains together with VCS and issue tracker, etc."
   ]
  },
  {
   "cell_type": "markdown",
   "metadata": {
    "slideshow": {
     "slide_type": "slide"
    }
   },
   "source": [
    "# Recap\n"
   ]
  },
  {
   "cell_type": "markdown",
   "metadata": {
    "slideshow": {
     "slide_type": "subslide"
    }
   },
   "source": [
    "## How is it going with your projects?"
   ]
  },
  {
   "cell_type": "markdown",
   "metadata": {
    "slideshow": {
     "slide_type": "subslide"
    }
   },
   "source": [
    "## The state of your projects?\n",
    "\n",
    "http://142.93.104.18/status.html"
   ]
  },
  {
   "cell_type": "markdown",
   "metadata": {
    "slideshow": {
     "slide_type": "fragment"
    }
   },
   "source": [
    "  * http://64.225.103.230/commit_activity_weekly.svg\n",
    "  * http://64.225.103.230/release_activity_weekly.svg"
   ]
  },
  {
   "cell_type": "markdown",
   "metadata": {
    "slideshow": {
     "slide_type": "subslide"
    }
   },
   "source": [
    "## Monitoring?\n",
    "\n",
    "\n",
    "Only half of you send a pull-request to https://github.com/itu-devops/2020-spring/blob/master/misc_urls.py with a monitoring URL?"
   ]
  },
  {
   "cell_type": "markdown",
   "metadata": {
    "slideshow": {
     "slide_type": "subslide"
    }
   },
   "source": [
    "![](images/group_h_monitoring.png)"
   ]
  },
  {
   "cell_type": "markdown",
   "metadata": {
    "slideshow": {
     "slide_type": "subslide"
    }
   },
   "source": [
    "![](images/group_i_monitoring.png)"
   ]
  },
  {
   "cell_type": "markdown",
   "metadata": {
    "slideshow": {
     "slide_type": "subslide"
    }
   },
   "source": [
    "![](images/group_g_monitoring.png)"
   ]
  },
  {
   "cell_type": "markdown",
   "metadata": {},
   "source": [
    "### Please display some information on your monitoring dashboards!"
   ]
  },
  {
   "cell_type": "markdown",
   "metadata": {
    "slideshow": {
     "slide_type": "subslide"
    }
   },
   "source": [
    "![](images/group_a_monitoring.png)"
   ]
  },
  {
   "cell_type": "markdown",
   "metadata": {},
   "source": [
    "### Please remember that the monitoring dashboard has to be accessible for us...\n",
    "\n",
    "Either it is public or you have to use the credentials from the last session that were also distributed via https://talk.itu.dk/channel/itu-devops-all."
   ]
  },
  {
   "cell_type": "markdown",
   "metadata": {
    "slideshow": {
     "slide_type": "subslide"
    }
   },
   "source": [
    "![](images/group_k_monitoring.png)"
   ]
  },
  {
   "cell_type": "markdown",
   "metadata": {
    "slideshow": {
     "slide_type": "subslide"
    }
   },
   "source": [
    "![](images/group_l_monitoring.png)"
   ]
  },
  {
   "cell_type": "markdown",
   "metadata": {
    "slideshow": {
     "slide_type": "slide"
    }
   },
   "source": [
    "## Maintenance?\n",
    "\n",
    "Did you observe something after setting up your monitoring that you fixed?"
   ]
  },
  {
   "cell_type": "markdown",
   "metadata": {
    "slideshow": {
     "slide_type": "slide"
    }
   },
   "source": [
    "### Your Turn! -  `Task 1`\n",
    "<img src=\"https://media.giphy.com/media/13GIgrGdslD9oQ/giphy.gif\" width=50%/>\n",
    "\n",
    "  - Map the all subsystems (components) of your _ITU-MiniTwit_ in a UML component diagram.\n",
    "  - That is, map all those parts that are either deployable separately or that contain bigger logical groups of functionality.\n",
    "  \n",
    "  \n",
    "  - If rusty on component diagrams, you may want to check one of the following websites:\n",
    "   * https://developer.ibm.com/articles/the-component-diagram/\n",
    "   * http://www.agilemodeling.com/artifacts/componentDiagram.htm.\n",
    "   * https://en.wikipedia.org/wiki/Component_diagram"
   ]
  },
  {
   "cell_type": "markdown",
   "metadata": {
    "slideshow": {
     "slide_type": "subslide"
    }
   },
   "source": [
    "### How it may look from the simulator\n",
    "\n",
    "![](images/inclass_component.png)"
   ]
  },
  {
   "cell_type": "markdown",
   "metadata": {
    "slideshow": {
     "slide_type": "subslide"
    }
   },
   "source": [
    "## Kinds of Interfaces\n",
    "\n",
    "  * Within a single programming language\n",
    "  * Across programming languages\n",
    "  * Over a network\n",
    "    - Web API\n",
    "    - REST API\n",
    "    - SOA webservice\n",
    "    - etc."
   ]
  },
  {
   "cell_type": "markdown",
   "metadata": {
    "slideshow": {
     "slide_type": "subslide"
    }
   },
   "source": [
    "### Your Turn! -  `Task 2`\n",
    "<img src=\"https://media.giphy.com/media/13GIgrGdslD9oQ/giphy.gif\" width=50%/>\n",
    "\n",
    "  - For each of the identified interfaces in your systems, map their kind, i.e., is it:\n",
    "    * Within a single programming language\n",
    "    * Across programming languages\n",
    "    * Over a network\n",
    "      - Web API\n",
    "      - REST API\n",
    "      - SOA webservice\n",
    "      - etc.\n",
    "  - Choose one of the identified interfaces (perhaps the most central) and try to specify the interface, i.e.:\n",
    "    - What can be called?\n",
    "    - In which way?\n",
    "    - How doe data need to be provided?\n",
    "    - How is data returned"
   ]
  },
  {
   "cell_type": "markdown",
   "metadata": {
    "slideshow": {
     "slide_type": "subslide"
    }
   },
   "source": [
    "### Was that an easy task?"
   ]
  },
  {
   "cell_type": "markdown",
   "metadata": {
    "slideshow": {
     "slide_type": "fragment"
    }
   },
   "source": [
    "We experienced this problem earlier:\n",
    "    \n",
    "![](images/inclass_component2.png)"
   ]
  },
  {
   "cell_type": "markdown",
   "metadata": {
    "slideshow": {
     "slide_type": "subslide"
    }
   },
   "source": [
    "#### What did we have to do to make that setup work?\n",
    "\n",
    "We had to:\n",
    "\n",
    "  * Provide an example specification encoded in a program [`minitwit_sim_api.py`](https://github.com/itu-devops/2020-spring/blob/master/sessions/session_03/API%20Spec/minitwit_sim_api.py).\n",
    "  * Provide a unit test [`minitwit_sim_api_test.py`](https://github.com/itu-devops/2020-spring/blob/master/sessions/session_03/API%20Spec/minitwit_sim_api_test.py) to demonstrate how the API is called, with which parameters and with which data.\n",
    "  * Provide an example client [`minitwit_simulator.py`](https://github.com/itu-devops/2020-spring/blob/master/sessions/session_03/API%20Spec/minitwit_simulator.py) with example data  ([`minitwit_scenario.csv`](https://github.com/itu-devops/2020-spring/blob/master/sessions/session_03/API%20Spec/minitwit_scenario.csv)) to allow for an integration test"
   ]
  },
  {
   "cell_type": "markdown",
   "metadata": {
    "slideshow": {
     "slide_type": "subslide"
    }
   },
   "source": [
    "##### Excerpt from [`minitwit_sim_api.py`](https://github.com/itu-devops/2020-spring/blob/master/sessions/session_03/API%20Spec/minitwit_sim_api.py)\n",
    "```python\n",
    "@app.route(\"/msgs\", methods=[\"GET\"])\n",
    "def messages():\n",
    "    no_msgs = request.args.get(\"no\", type=int, default=100)\n",
    "    if request.method == \"GET\":\n",
    "        messages = query_db(...)\n",
    "\n",
    "        filtered_msgs = []\n",
    "        for msg in messages:\n",
    "            filtered_msg = {}\n",
    "            filtered_msg[\"content\"] = msg[\"text\"]\n",
    "            filtered_msg[\"pub_date\"] = msg[\"pub_date\"]\n",
    "            filtered_msg[\"user\"] = msg[\"username\"]\n",
    "            filtered_msgs.append(filtered_msg)\n",
    "\n",
    "        return jsonify(filtered_msgs)\n",
    "\n",
    "\n",
    "@app.route(\"/fllws/<username>\", methods=[\"GET\", \"POST\"])\n",
    "def follow(username):\n",
    "\n",
    "    user_id = get_user_id(username)\n",
    "    if not user_id:\n",
    "        abort(404)\n",
    "\n",
    "    if request.method == \"POST\" and \"follow\" in request.json.keys():\n",
    "        follows_user_id = get_user_id(request.json[\"follow\"])\n",
    "        if not follows_user_id:\n",
    "            abort(404)\n",
    "        return \"\", 204\n",
    "\n",
    "    elif request.method == \"POST\" and \"unfollow\" in request.json.keys():\n",
    "        unfollows_user_id = get_user_id(request.json[\"unfollow\"])\n",
    "        if not unfollows_user_id:\n",
    "            abort(404)\n",
    "        return \"\", 204\n",
    "\n",
    "    elif request.method == \"GET\":\n",
    "        no_followers = request.args.get(\"no\", type=int, default=100)\n",
    "        ...\n",
    "        followers_response = {\"follows\": follower_names}\n",
    "        return jsonify(followers_response)\n",
    "```"
   ]
  },
  {
   "cell_type": "markdown",
   "metadata": {
    "slideshow": {
     "slide_type": "subslide"
    }
   },
   "source": [
    "##### Excerpt from [`minitwit_sim_api_test.py`](https://github.com/itu-devops/2020-spring/blob/master/sessions/session_03/API%20Spec/minitwit_sim_api_test.py)\n",
    "\n",
    "```python\n",
    "def test_get_latest_user_msgs():\n",
    "    username = 'a'\n",
    "\n",
    "    query = {'no': 20, 'latest': 3}\n",
    "    url = f'{BASE_URL}/msgs/{username}'\n",
    "    response = requests.get(url, headers=HEADERS, params=query)\n",
    "    assert response.status_code == 200\n",
    "\n",
    "    got_it_earlier = False\n",
    "    for msg in response.json():\n",
    "        if msg['content'] == 'Blub!' and msg['user'] == username:\n",
    "            got_it_earlier = True\n",
    "\n",
    "    assert got_it_earlier\n",
    "    \n",
    "    \n",
    "def test_follow_user():\n",
    "    username = 'a'\n",
    "    url = f'{BASE_URL}/fllws/{username}'\n",
    "    data = {'follow': 'b'}\n",
    "    params = {'latest': 7}\n",
    "    response = requests.post(url, data=json.dumps(data),\n",
    "                             headers=HEADERS, params=params)\n",
    "    assert response.ok\n",
    "\n",
    "    data = {'follow': 'c'}\n",
    "    params = {'latest': 8}\n",
    "    response = requests.post(url, data=json.dumps(data),\n",
    "                             headers=HEADERS, params=params)\n",
    "    assert response.ok\n",
    "\n",
    "    json_data = response.json()\n",
    "    assert \"b\" in json_data[\"follows\"]\n",
    "    assert \"c\" in json_data[\"follows\"]\n",
    "```"
   ]
  },
  {
   "cell_type": "markdown",
   "metadata": {
    "slideshow": {
     "slide_type": "subslide"
    }
   },
   "source": [
    "### Your Turn! -  `Task 3`\n",
    "<img src=\"https://media.giphy.com/media/13GIgrGdslD9oQ/giphy.gif\" width=50%/>\n",
    "\n",
    "Reflect with your group mates why the above setup is not suitable in a DevOps environment."
   ]
  },
  {
   "cell_type": "markdown",
   "metadata": {
    "slideshow": {
     "slide_type": "subslide"
    }
   },
   "source": [
    "DevOps focuses on shortening deployment lead time to a period of minutes. \n",
    "\n",
    "![](https://2wded2jn6ekmzt6b3ruvnh15-wpengine.netdna-ssl.com/wp-content/uploads/2017/10/Leadtime-high-res-768x289.png)"
   ]
  },
  {
   "cell_type": "markdown",
   "metadata": {
    "slideshow": {
     "slide_type": "fragment"
    }
   },
   "source": [
    "  * Eliminate Hardships and Waste in the Value Stream\n",
    "  * Enable Optimizing for Downstream Work Centers"
   ]
  },
  {
   "cell_type": "markdown",
   "metadata": {
    "slideshow": {
     "slide_type": "subslide"
    }
   },
   "source": [
    "## The problem:\n",
    "\n",
    "We had to do all this for only one single API.\n",
    "\n",
    "Imagine our system grows and we would have to do that for all interfaces between subsystems.\n",
    "\n",
    "That is unpractical since it:\n",
    "\n",
    "  * is error prone\n",
    "  * is slow, for every change in the API we have to:\n",
    "    - run a lot of tests and\n",
    "    - communicate and coordinate a lot with potentially remote groups\n",
    "  \n",
    "Consequently, exchanging components becomes a hard task."
   ]
  },
  {
   "cell_type": "markdown",
   "metadata": {
    "slideshow": {
     "slide_type": "slide"
    }
   },
   "source": [
    "## Kinds of APIs\n",
    "\n",
    "  * Within a single programming language\n",
    "  * Across programming languages\n",
    "  * Over a network\n",
    "    - Web API\n",
    "    - REST API\n",
    "    - SOA webservice\n",
    "    - etc."
   ]
  },
  {
   "cell_type": "markdown",
   "metadata": {
    "slideshow": {
     "slide_type": "subslide"
    }
   },
   "source": [
    "## Example of an API Within a Single Programming Language API\n",
    "\n",
    "In the very beginning we had this `flag_tool.c` program. A C program, which could flag certain tweets directly in the database:\n",
    "\n",
    "\n",
    "```c\n",
    "#include <sqlite3.h>\n",
    "#include <stdio.h>\n",
    "#include <stdlib.h>\n",
    "#include <string.h>\n",
    "\n",
    "char *docStr = \"ITU-Minitwit Tweet Flagging Tool\\n\\n\"\n",
    "               \"Usage:\\n\"\n",
    "               \"  flag_tool <tweet_id>...\\n\"\n",
    "               \"  flag_tool -i\\n\"\n",
    "               \"  flag_tool -h\\n\"\n",
    "               \"Options:\\n\"\n",
    "               \"-h            Show this screen.\\n\"\n",
    "               \"-i            Dump all tweets and authors to STDOUT.\\n\";\n",
    "\n",
    "static int callback(void *data, int argc, char **argv, char **azColName) {\n",
    "  printf(\"%s,%s,%s,%s\\n\", argv[0] ? argv[0] : \"NULL\",\n",
    "         argv[1] ? argv[1] : \"NULL\", argv[2] ? argv[2] : \"NULL\",\n",
    "         argv[4] ? argv[4] : \"NULL\");\n",
    "  return 0;\n",
    "}\n",
    "\n",
    "int main(int argc, char *argv[]) {\n",
    "  sqlite3 *db;\n",
    "  char *zErrMsg = 0;\n",
    "  int rc;\n",
    "  char query[256];\n",
    "  const char *data = \"Callback function called\";\n",
    "\n",
    "  rc = sqlite3_open(\"/tmp/minitwit.db\", &db);\n",
    "  if (rc) {\n",
    "    fprintf(stderr, \"Can't open database: %s\\n\", sqlite3_errmsg(db));\n",
    "    return (0);\n",
    "  }\n",
    "  if (argc == 2 && strcmp(argv[1], \"-h\") == 0) {\n",
    "    fprintf(stdout, \"%s\\n\", docStr);\n",
    "  }\n",
    "  if (argc == 2 && strcmp(argv[1], \"-i\") == 0) {\n",
    "    strcpy(query, \"SELECT * FROM message\");\n",
    "    /* Execute SQL statement */\n",
    "    rc = sqlite3_exec(db, query, callback, (void *)data, &zErrMsg);\n",
    "    if (rc != SQLITE_OK) {\n",
    "      fprintf(stderr, \"SQL error: %s\\n\", zErrMsg);\n",
    "      sqlite3_free(zErrMsg);\n",
    "    }\n",
    "  }\n",
    "  if (argc >= 2 && strcmp(argv[1], \"-i\") != 0 && strcmp(argv[1], \"-h\") != 0) {\n",
    "    int i;\n",
    "    for (i = 1; i < argc; i++) {\n",
    "      strcpy(query, \"UPDATE message SET flagged=1 WHERE message_id=\");\n",
    "      strcat(query, argv[i]);\n",
    "      rc = sqlite3_exec(db, query, callback, (void *)data, &zErrMsg);\n",
    "      if (rc != SQLITE_OK) {\n",
    "        fprintf(stderr, \"SQL error: %s\\n\", zErrMsg);\n",
    "        sqlite3_free(zErrMsg);\n",
    "      } else {\n",
    "        printf(\"Flagged entry: %s\\n\", argv[i]);\n",
    "      }\n",
    "    }\n",
    "  }\n",
    "\n",
    "  sqlite3_close(db);\n",
    "  return 0;\n",
    "}\n",
    "```"
   ]
  },
  {
   "cell_type": "markdown",
   "metadata": {
    "slideshow": {
     "slide_type": "subslide"
    }
   },
   "source": [
    "\n",
    "This small program relied on the SQLite3 API. It calls the functions `sqlite3_open`, `sqlite3_errmsg`, `sqlite3_exec`, `sqlite3_free`, and `sqlite3_close` and receives corresponding return values from the SQLite3 library.\n",
    "\n",
    "The API is [introduced](https://www.sqlite.org/cintro.html) and [described in detail](https://sqlite.org/capi3ref.html).\n"
   ]
  },
  {
   "cell_type": "markdown",
   "metadata": {
    "slideshow": {
     "slide_type": "subslide"
    }
   },
   "source": [
    "\n",
    "For example, possible calls of `sqlite3_open` are defined here https://sqlite.org/capi3ref.html#sqlite3_open as:\n",
    "\n",
    "```c\n",
    "int sqlite3_open(\n",
    "  const char *filename,   /* Database filename (UTF-8) */\n",
    "  sqlite3 **ppDb          /* OUT: SQLite db handle */\n",
    ");\n",
    "int sqlite3_open16(\n",
    "  const void *filename,   /* Database filename (UTF-16) */\n",
    "  sqlite3 **ppDb          /* OUT: SQLite db handle */\n",
    ");\n",
    "int sqlite3_open_v2(\n",
    "  const char *filename,   /* Database filename (UTF-8) */\n",
    "  sqlite3 **ppDb,         /* OUT: SQLite db handle */\n",
    "  int flags,              /* Flags */\n",
    "  const char *zVfs        /* Name of VFS module to use */\n",
    ");\n",
    "```"
   ]
  },
  {
   "cell_type": "markdown",
   "metadata": {
    "slideshow": {
     "slide_type": "fragment"
    }
   },
   "source": [
    "Actually, the API is defined and described in a file sqlite.h:\n",
    "\n",
    "https://github.com/sqlite/sqlite/blob/24e399038bfb59823ea6bf1939c2282eeaf4401a/src/sqlite.h.in#L3514\n",
    "\n"
   ]
  },
  {
   "cell_type": "markdown",
   "metadata": {
    "slideshow": {
     "slide_type": "subslide"
    }
   },
   "source": [
    "### Do you have a similar file for a central interface somewhere in your code base?\n",
    "\n",
    "If not how can you quickly tell another group how to use your component?"
   ]
  },
  {
   "cell_type": "markdown",
   "metadata": {
    "slideshow": {
     "slide_type": "subslide"
    }
   },
   "source": [
    "### How to design good APIs?\n",
    "Joshua Bloch [_\"How to Design a Good API and Why it Matters \"_](https://dl.acm.org/doi/pdf/10.1145/1176617.1176622?casa_token=RpflkPXOrDEAAAAA:E_M0ajfP1oTa8cOVAbaLMWRCeoguv5TV6E2ka71em0i4h_BUDLjyWFYWz6Q0RZwjJsifAaG4cdw) and the [corresponding presentation slides](http://static.googleusercontent.com/media/research.google.com/en//pubs/archive/32713.pdf)"
   ]
  },
  {
   "cell_type": "markdown",
   "metadata": {
    "slideshow": {
     "slide_type": "subslide"
    }
   },
   "source": [
    "## Example of a Web API\n",
    "\n",
    "That example uses an OpenAPI Specification (OAS), a declarative specification of all operations, data, and responses of an interface.\n",
    "\n",
    "![](images/oas.png)\n",
    "\n",
    "  > Arnaud Lauret. _\"The Design of Web APIs\"_\n",
    "  \n",
    "See an example at:  https://editor.swagger.io/"
   ]
  },
  {
   "cell_type": "markdown",
   "metadata": {
    "slideshow": {
     "slide_type": "subslide"
    }
   },
   "source": [
    "The following OpenAPI specification is the declarative equivalent of all the knowledge [`minitwit_sim_api.py`](https://github.com/itu-devops/2020-spring/blob/master/sessions/session_03/API%20Spec/minitwit_sim_api.py), [`minitwit_sim_api_test.py`](https://github.com/itu-devops/2020-spring/blob/master/sessions/session_03/API%20Spec/minitwit_sim_api_test.py), [`minitwit_simulator.py`](https://github.com/itu-devops/2020-spring/blob/master/sessions/session_03/API%20Spec/minitwit_simulator.py), and [`minitwit_scenario.csv`](https://github.com/itu-devops/2020-spring/blob/master/sessions/session_03/API%20Spec/minitwit_scenario.csv)\n",
    "\n",
    "\n",
    "```yaml\n",
    "openapi: 3.0.0\n",
    "info:\n",
    "  title: Minitwit Simualtor API\n",
    "  description: This is a demo of Minitwit Simualtor API using OpenAPI spec\n",
    "  contact:\n",
    "    email: niss@itu.dk\n",
    "  license:\n",
    "    name: Apache 2.0\n",
    "    url: http://www.apache.org/licenses/LICENSE-2.0.html\n",
    "  version: 1.0.0\n",
    "servers:\n",
    "- url: /\n",
    "paths:\n",
    "  /latest:\n",
    "    get:\n",
    "      summary: Get latest accpeted id\n",
    "      \n",
    "\n",
    "      responses:\n",
    "        \"200\":\n",
    "          description: returns latest accepted id by api\n",
    "          content:\n",
    "            application/json:\n",
    "              schema:\n",
    "                $ref: '#/components/schemas/LatestResponse'\n",
    "  /register:\n",
    "    post:\n",
    "      summary: Post new user to register\n",
    "      parameters:\n",
    "      - name: latest\n",
    "        in: query\n",
    "        description: latest id sent by simulator api\n",
    "        required: false\n",
    "        style: form\n",
    "        explode: true\n",
    "        schema:\n",
    "          type: integer\n",
    "      requestBody:\n",
    "        $ref: '#/components/requestBodies/RegisterUserBody'\n",
    "      responses:\n",
    "        \"204\":\n",
    "          description: User registered\n",
    "        \"400\":\n",
    "          description: Error on insert with description\n",
    "          content:\n",
    "            application/json:\n",
    "              schema:\n",
    "                type: array\n",
    "                items:\n",
    "                  $ref: '#/components/schemas/RegisterErrorResponse'\n",
    "  /msgs:\n",
    "    get:\n",
    "      summary: Get number of messages from system\n",
    "      parameters:\n",
    "      - name: Authorization\n",
    "        in: header\n",
    "        required: true\n",
    "        style: simple\n",
    "        explode: false\n",
    "        schema:\n",
    "          type: string\n",
    "          example: Basic c2ltdWxhdG9yOnN1cGVyX3NhZmUh\n",
    "      - name: \"no\"\n",
    "        in: query\n",
    "        description: Number of messages to return\n",
    "        required: false\n",
    "        style: form\n",
    "        explode: true\n",
    "        schema:\n",
    "          type: integer\n",
    "      - name: latest\n",
    "        in: query\n",
    "        description: latest id sent by simulator api\n",
    "        required: false\n",
    "        style: form\n",
    "        explode: true\n",
    "        schema:\n",
    "          type: integer\n",
    "      responses:\n",
    "        \"200\":\n",
    "          description: Message created\n",
    "          content:\n",
    "            application/json:\n",
    "              schema:\n",
    "                type: array\n",
    "                items:\n",
    "                  $ref: '#/components/schemas/ListOfMessageDTO'\n",
    "  /msgs/{username}:\n",
    "    get:\n",
    "      summary: Find messages by username\n",
    "      description: Returns messages by username\n",
    "      parameters:\n",
    "      - name: Authorization\n",
    "        in: header\n",
    "        required: true\n",
    "        style: simple\n",
    "        explode: false\n",
    "        schema:\n",
    "          type: string\n",
    "          example: Basic c2ltdWxhdG9yOnN1cGVyX3NhZmUh\n",
    "      - name: username\n",
    "        in: path\n",
    "        description: username of user to return\n",
    "        required: true\n",
    "        style: simple\n",
    "        explode: false\n",
    "        schema:\n",
    "          type: string\n",
    "          example: niss\n",
    "      - name: \"no\"\n",
    "        in: query\n",
    "        description: pass an optional search string for looking up inventory\n",
    "        required: false\n",
    "        style: form\n",
    "        explode: true\n",
    "        schema:\n",
    "          type: integer\n",
    "      - name: latest\n",
    "        in: query\n",
    "        description: latest id sent by simulator api\n",
    "        required: false\n",
    "        style: form\n",
    "        explode: true\n",
    "        schema:\n",
    "          type: integer\n",
    "      responses:\n",
    "        \"200\":\n",
    "          description: successful operation\n",
    "          content:\n",
    "            application/json:\n",
    "              schema:\n",
    "                $ref: '#/components/schemas/ListOfMessageDTO'\n",
    "            application/xml:\n",
    "              schema:\n",
    "                $ref: '#/components/schemas/LatestResponse'\n",
    "        \"401\":\n",
    "          description: Unauthorized\n",
    "        \"404\":\n",
    "          description: User not found\n",
    "    post:\n",
    "      summary: Find messages by username\n",
    "      description: Returns messages by username\n",
    "      parameters:\n",
    "      - name: Authorization\n",
    "        in: header\n",
    "        required: true\n",
    "        style: simple\n",
    "        explode: false\n",
    "        schema:\n",
    "          type: string\n",
    "          example: Basic c2ltdWxhdG9yOnN1cGVyX3NhZmUh\n",
    "      - name: username\n",
    "        in: path\n",
    "        description: username of user to return\n",
    "        required: true\n",
    "        style: simple\n",
    "        explode: false\n",
    "        schema:\n",
    "          type: string\n",
    "          example: niss\n",
    "      - name: latest\n",
    "        in: query\n",
    "        description: latest id sent by simulator api\n",
    "        required: false\n",
    "        style: form\n",
    "        explode: true\n",
    "        schema:\n",
    "          type: integer\n",
    "      requestBody:\n",
    "        $ref: '#/components/requestBodies/MessageBody'\n",
    "      responses:\n",
    "        \"204\":\n",
    "          description: successful operation\n",
    "        \"401\":\n",
    "          description: Unauthorized\n",
    "        \"500\":\n",
    "          description: Invalid username supplied\n",
    "  /fllws/{username}:\n",
    "    get:\n",
    "      summary: Find messages by username\n",
    "      description: Returns messages by username\n",
    "      parameters:\n",
    "      - name: Authorization\n",
    "        in: header\n",
    "        required: true\n",
    "        style: simple\n",
    "        explode: false\n",
    "        schema:\n",
    "          type: string\n",
    "          example: Basic c2ltdWxhdG9yOnN1cGVyX3NhZmUh\n",
    "      - name: username\n",
    "        in: path\n",
    "        description: username of user to return\n",
    "        required: true\n",
    "        style: simple\n",
    "        explode: false\n",
    "        schema:\n",
    "          type: string\n",
    "          example: niss\n",
    "      - name: \"no\"\n",
    "        in: query\n",
    "        description: pass an optional search string for looking up inventory\n",
    "        required: false\n",
    "        style: form\n",
    "        explode: true\n",
    "        schema:\n",
    "          type: integer\n",
    "      - name: latest\n",
    "        in: query\n",
    "        description: latest id sent by simulator api\n",
    "        required: false\n",
    "        style: form\n",
    "        explode: true\n",
    "        schema:\n",
    "          type: integer\n",
    "      responses:\n",
    "        \"200\":\n",
    "          description: successful operation\n",
    "          content:\n",
    "            application/json:\n",
    "              schema:\n",
    "                $ref: '#/components/schemas/UserFollowersDTO'\n",
    "        \"401\":\n",
    "          description: Unauthorized\n",
    "        \"404\":\n",
    "          description: User not found\n",
    "    post:\n",
    "      summary: Find messages by username\n",
    "      description: Returns messages by username\n",
    "      parameters:\n",
    "      - name: Authorization\n",
    "        in: header\n",
    "        required: true\n",
    "        style: simple\n",
    "        explode: false\n",
    "        schema:\n",
    "          type: string\n",
    "          example: Basic c2ltdWxhdG9yOnN1cGVyX3NhZmUh\n",
    "      - name: username\n",
    "        in: path\n",
    "        description: username of user to return\n",
    "        required: true\n",
    "        style: simple\n",
    "        explode: false\n",
    "        schema:\n",
    "          type: string\n",
    "          example: niss\n",
    "      - name: latest\n",
    "        in: query\n",
    "        description: latest id sent by simulator api\n",
    "        required: false\n",
    "        style: form\n",
    "        explode: true\n",
    "        schema:\n",
    "          type: integer\n",
    "      requestBody:\n",
    "        $ref: '#/components/requestBodies/FollowBody'\n",
    "      responses:\n",
    "        \"204\":\n",
    "          description: successful operation\n",
    "        \"401\":\n",
    "          description: Unauthorized\n",
    "        \"404\":\n",
    "          description: User not found\n",
    "components:\n",
    "  schemas:\n",
    "    LatestResponse:\n",
    "      required:\n",
    "      - latest\n",
    "      type: object\n",
    "      properties:\n",
    "        latest:\n",
    "          type: integer\n",
    "          example: 23592\n",
    "    RegisterErrorResponse:\n",
    "      required:\n",
    "      - error_msg\n",
    "      - status\n",
    "      type: object\n",
    "      properties:\n",
    "        status:\n",
    "          type: integer\n",
    "          example: 400\n",
    "        error_msg:\n",
    "          type: string\n",
    "          example: error\n",
    "    MessageDTO:\n",
    "      required:\n",
    "      - content\n",
    "      - pub_date\n",
    "      - user\n",
    "      type: object\n",
    "      properties:\n",
    "        content:\n",
    "          type: string\n",
    "          example: Hello, up for coffee later?\n",
    "        pub_date:\n",
    "          type: string\n",
    "          format: date-time\n",
    "        user:\n",
    "          type: string\n",
    "          example: niss\n",
    "    ListOfMessageDTO:\n",
    "      required:\n",
    "      - filtered_msgs\n",
    "      type: object\n",
    "      properties:\n",
    "        filtered_msgs:\n",
    "          type: array\n",
    "          items:\n",
    "            $ref: '#/components/schemas/MessageDTO'\n",
    "    MessageCreateDTO:\n",
    "      required:\n",
    "      - content\n",
    "      type: object\n",
    "      properties:\n",
    "        content:\n",
    "          type: string\n",
    "          example: Hey, whats up?\n",
    "    FollowDTO:\n",
    "      type: object\n",
    "      properties:\n",
    "        follow:\n",
    "          type: string\n",
    "          example: niss\n",
    "    UnfollowDTO:\n",
    "      type: object\n",
    "      properties:\n",
    "        unfollow:\n",
    "          type: string\n",
    "          example: niss\n",
    "    UserFollowDTO:\n",
    "      required:\n",
    "      - username\n",
    "      type: object\n",
    "      properties:\n",
    "        username:\n",
    "          type: string\n",
    "          example: niss\n",
    "    UserFollowersDTO:\n",
    "      required:\n",
    "      - follows\n",
    "      type: object\n",
    "      properties:\n",
    "        follows:\n",
    "          type: array\n",
    "          items:\n",
    "            $ref: '#/components/schemas/UserFollowDTO'\n",
    "    UserCreateDTO:\n",
    "      required:\n",
    "      - email\n",
    "      - pwd\n",
    "      - username\n",
    "      type: object\n",
    "      properties:\n",
    "        username:\n",
    "          type: string\n",
    "          example: Christoffer Nissen\n",
    "        email:\n",
    "          type: string\n",
    "          example: niss@itu.dk\n",
    "        pwd:\n",
    "          type: string\n",
    "          example: securepwd\n",
    "  requestBodies:\n",
    "    FollowBody:\n",
    "      content:\n",
    "        application/json:\n",
    "          schema:\n",
    "            oneOf:\n",
    "            - $ref: '#/components/schemas/FollowDTO'\n",
    "            - $ref: '#/components/schemas/UnfollowDTO'\n",
    "          example:\n",
    "            follow: niss\n",
    "    MessageBody:\n",
    "      description: Message object that needs to be added to the database\n",
    "      content:\n",
    "        application/json:\n",
    "          schema:\n",
    "            $ref: '#/components/schemas/MessageCreateDTO'\n",
    "      required: true\n",
    "    RegisterUserBody:\n",
    "      description: User object that needs to be added to the database\n",
    "      content:\n",
    "        application/json:\n",
    "          schema:\n",
    "            $ref: '#/components/schemas/UserCreateDTO'\n",
    "      required: true\n",
    "```\n",
    "\n",
    "\n"
   ]
  },
  {
   "cell_type": "markdown",
   "metadata": {
    "slideshow": {
     "slide_type": "subslide"
    }
   },
   "source": [
    "### How to design good web APIs?\n",
    "\n",
    "  * M. Stocker et al. [_\"Interface Quality Patterns: Communicating and Improving the Quality of Microservices APIs\"_](https://dl.acm.org/doi/10.1145/3282308.3282319)\n",
    "  * O. Zimmermann et al. [_\"Interface Representation Patterns: Crafting and Consuming Message-Based Remote APIs\"_](https://dl.acm.org/doi/10.1145/3147704.3147734)"
   ]
  },
  {
   "cell_type": "markdown",
   "metadata": {
    "slideshow": {
     "slide_type": "subslide"
    }
   },
   "source": [
    "### Your Turn! -  `Task 4`\n",
    "<img src=\"https://media.giphy.com/media/13GIgrGdslD9oQ/giphy.gif\" width=50%/>\n",
    "\n",
    "Navigate to https://github.com/itu-devops/itu-minitwit-openapi and follow the scenario described in the `README.md` file."
   ]
  },
  {
   "cell_type": "markdown",
   "metadata": {
    "slideshow": {
     "slide_type": "slide"
    }
   },
   "source": [
    "-------\n",
    "\n",
    "\n",
    "# Software Quality\n",
    "\n",
    "## Pair programming\n",
    "\n",
    "  > By  working  in tandem,  the  pairs  completed their  assignments 40% to 50% faster.\n",
    "  >\n",
    "  > [L. Williams et al. _\"Strengthening the Case for Pair Programming\"_](https://ieeexplore.ieee.org/stamp/stamp.jsp?arnumber=854064)\n",
    " \n",
    " "
   ]
  },
  {
   "cell_type": "markdown",
   "metadata": {
    "slideshow": {
     "slide_type": "fragment"
    }
   },
   "source": [
    "  > The top benefit was fewer bugs in the source code. One person \n",
    "said \"it greatly reduces bug numbers.\" Simple bugs were found \n",
    "and fixed, as one respondent reported, \"there are fewer 'petty'\n",
    "bugs.\" In addition, respondents speculated that the longer bugs \n",
    "live in the code, the more difficult they are to fix. Using pair pro-\n",
    "gramming, \"bugs are spotted earlier\" in the development process, \n",
    "and \"may prevent bugs before [they are] deeply embedded.\"\n",
    "  > \n",
    "  > A. Begel et al. _\"Pair programming: what's in it for me?\"_"
   ]
  },
  {
   "cell_type": "markdown",
   "metadata": {
    "slideshow": {
     "slide_type": "fragment"
    }
   },
   "source": [
    "  > for a development-time cost of about 15%, pair programming improves design quality, reduces defects, reduces staffing risk, enhances technical skills, improves team communications and is considered more enjoyable at statistically significant levels.\n",
    "  >\n",
    "  > https://collaboration.csc.ncsu.edu/laurie/Papers/XPSardinia.PDF\n",
    "\n"
   ]
  },
  {
   "cell_type": "markdown",
   "metadata": {
    "slideshow": {
     "slide_type": "subslide"
    }
   },
   "source": [
    "##  Code reviews\n",
    "  \n",
    "  > At a cost of 1-2% of the project, a 40% decrease in the number of issues  was  found.\n",
    "  >\n",
    "  > [R.A. Baker Jr  _\"Code reviews enhance software quality\"_](https://dl.acm.org/doi/pdf/10.1145/253228.253461)"
   ]
  },
  {
   "cell_type": "markdown",
   "metadata": {
    "slideshow": {
     "slide_type": "fragment"
    }
   },
   "source": [
    "  > Findings  show  that  unreviewed  commits  (i.e., commits  that did  not  undergo  a  review  process)  have  over  two  times  more chances of introducing bugs than reviewed commits (i.e.,commits that  underwent  a  review  process).  In  addition,  code  committed after  review  has  a  substantially  higher  readability  with  respect to  unreviewed  code.\n",
    "  >\n",
    "  > [G. Bavota et al. _\"Four eyes are better than two: On the impact of code reviews on software quality\"_](http://citeseerx.ist.psu.edu/viewdoc/download?doi=10.1.1.709.2980&rep=rep1&type=pdf)\n",
    "\n",
    "\n",
    "\n"
   ]
  },
  {
   "cell_type": "markdown",
   "metadata": {
    "slideshow": {
     "slide_type": "fragment"
    }
   },
   "source": [
    "\n",
    "  > we ﬁnd that both code review coverage and participation share a significant link with software quality. Low code review coverage and participation are estimated to produce components with up to two and five additional post-release defects respectively. Our results empirically confirm the intuition that poorly reviewed code has a negative impact on software quality [...]\n",
    "  >\n",
    "  > [S. McIntosh _\"The impact of code review coverage and code review participation on software quality: a case study of the Qt, VTK, and ITK projects\"_](https://dl.acm.org/doi/abs/10.1145/2597073.2597076)"
   ]
  },
  {
   "cell_type": "markdown",
   "metadata": {
    "slideshow": {
     "slide_type": "subslide"
    }
   },
   "source": [
    "## Static Analysis Tools\n",
    "\n",
    "\n",
    "In the following we want to asses some qualities of an earlier version of _ITU-MiniTwit_, the one published in the master branch of https://github.com/itu-devops/itu-minitwit-monitoring.\n"
   ]
  },
  {
   "cell_type": "markdown",
   "metadata": {
    "slideshow": {
     "slide_type": "subslide"
    }
   },
   "source": [
    "### [Pylint](pylint.org)\n",
    "\n",
    "  * checks coding standards \n",
    "  * detects errors\n",
    "  * detects duplicates \n",
    "  * detects unused code\n",
    "  \n",
    "\n",
    "```\n",
    "$ pylint minitwit_mysql.py\n",
    "************* Module minitwit_mysql\n",
    "minitwit_mysql.py:33:2: W0511: TODO change... (fixme)\n",
    "minitwit_mysql.py:74:0: C0303: Trailing whitespace (trailing-whitespace)\n",
    "minitwit_mysql.py:178:0: C0301: Line too long (114/100) (line-too-long)\n",
    "minitwit_mysql.py:178:0: C0301: Line too long (114/100) (line-too-long)\n",
    "minitwit_mysql.py:206:0: C0301: Line too long (101/100) (line-too-long)\n",
    "minitwit_mysql.py:239:0: C0301: Line too long (107/100) (line-too-long)\n",
    "minitwit_mysql.py:239:0: C0301: Line too long (107/100) (line-too-long)\n",
    "minitwit_mysql.py:28:0: E0611: No name 'check_password_hash' in module 'werkzeug' (no-name-in-module)\n",
    "minitwit_mysql.py:28:0: E0611: No name 'generate_password_hash' in module 'werkzeug' (no-name-in-module)\n",
    "minitwit_mysql.py:48:0: C0103: Constant name \"app\" doesn't conform to UPPER_CASE naming style (invalid-name)\n",
    "minitwit_mysql.py:79:4: C0103: Variable name \"rv\" doesn't conform to snake_case naming style (invalid-name)\n",
    "minitwit_mysql.py:67:20: W0613: Unused argument 'args' (unused-argument)\n",
    "minitwit_mysql.py:91:4: C0103: Variable name \"rv\" doesn't conform to snake_case naming style (invalid-name)\n",
    "minitwit_mysql.py:309:0: E1101: Method 'jinja_env' has no 'filters' member (no-member)\n",
    "minitwit_mysql.py:310:0: E1101: Method 'jinja_env' has no 'filters' member (no-member)\n",
    "minitwit_mysql.py:13:0: W0611: Unused import sqlite3 (unused-import)\n",
    "minitwit_mysql.py:16:0: W0611: Unused closing imported from contextlib (unused-import)\n",
    "\n",
    "-----------------------------------\n",
    "Your code has been rated at 7.54/10\n",
    "```\n",
    "\n",
    "  * R ... Refactor to adhere to \"good practice\"\n",
    "  * C ... Convention violation of coding standard\n",
    "  * W ... Warning indicating style issues or minor programming issues \n",
    "  * E ... Error, most likely bugs\n",
    "  * F ... Fatal, errors which prevent further analysis"
   ]
  },
  {
   "cell_type": "markdown",
   "metadata": {
    "slideshow": {
     "slide_type": "subslide"
    }
   },
   "source": [
    "### [Pyflakes](https://github.com/PyCQA/pyflakes)\n",
    "\n",
    "  * detects errors\n",
    "\n",
    "```\n",
    "$ pyflakes minitwit_mysql.py\n",
    "minitwit_mysql.py:13: 'sqlite3' imported but unused\n",
    "minitwit_mysql.py:16: 'contextlib.closing' imported but unused\n",
    "```"
   ]
  },
  {
   "cell_type": "markdown",
   "metadata": {
    "slideshow": {
     "slide_type": "subslide"
    }
   },
   "source": [
    "### [Prospector ](https://github.com/PyCQA/prospector)\n",
    "\n",
    "Prospector is a \"meta-tool\" as it includes since it incorporates results from other static analysis tools, such as, [Pylint](http://docs.pylint.org/), [pep8](http://pep8.readthedocs.org/en/latest/), and [McCabe complexity](https://pypi.python.org/pypi/mccabe), etc.\n",
    "\n",
    "\n",
    "```\n",
    "$ prospector minitwit_mysql.py\n",
    "Messages\n",
    "========\n",
    "\n",
    "minitwit_mysql.py\n",
    "  Line: 13\n",
    "    pylint: unused-import / Unused import sqlite3\n",
    "  Line: 16\n",
    "    pylint: unused-import / Unused closing imported from contextlib\n",
    "  Line: 39\n",
    "    dodgy: password / Possible hardcoded password\n",
    "  Line: 45\n",
    "    dodgy: secret / Possible hardcoded secret key\n",
    "  Line: 67\n",
    "    pylint: unused-argument / Unused argument 'args' (col 20)\n",
    "\n",
    "\n",
    "\n",
    "Check Information\n",
    "=================\n",
    "         Started: 2020-03-11 17:41:13.781662\n",
    "        Finished: 2020-03-11 17:41:16.566612\n",
    "      Time Taken: 2.78 seconds\n",
    "       Formatter: grouped\n",
    "        Profiles: default, no_doc_warnings, no_test_warnings, strictness_medium, strictness_high, strictness_veryhigh, no_member_warnings\n",
    "      Strictness: None\n",
    "  Libraries Used: flask\n",
    "       Tools Run: dodgy, mccabe, pep8, profile-validator, pyflakes, pylint\n",
    "  Messages Found: 5\n",
    "```\n"
   ]
  },
  {
   "cell_type": "markdown",
   "metadata": {
    "slideshow": {
     "slide_type": "subslide"
    }
   },
   "source": [
    "### [Bandit](https://github.com/PyCQA/bandit)\n",
    "\n",
    "Tries to detect\n",
    "\n",
    "  * security defects\n",
    "  * hardcoded passwords\n",
    "  * Shell injections\n",
    "  * SQL injections\n",
    "\n",
    "```\n",
    "$ bandit -r minitwit_mysql.py\n",
    "[main]\tINFO\tprofile include tests: None\n",
    "[main]\tINFO\tprofile exclude tests: None\n",
    "[main]\tINFO\tcli include tests: None\n",
    "[main]\tINFO\tcli exclude tests: None\n",
    "[main]\tINFO\trunning on Python 3.7.3\n",
    "[node_visitor]\tINFO\tUnable to find qualified name for module: minitwit_mysql.py\n",
    "Run started:2020-03-11 16:44:27.375384\n",
    "\n",
    "Test results:\n",
    ">> Issue: [B105:hardcoded_password_string] Possible hardcoded password: 'root'\n",
    "   Severity: Low   Confidence: Medium\n",
    "   Location: minitwit_mysql.py:39\n",
    "   More Info: https://bandit.readthedocs.io/en/latest/plugins/b105_hardcoded_password_string.html\n",
    "38\tDB_USER = \"root\"\n",
    "39\tDB_PASSWORD = \"root\"\n",
    "40\tDB_NAME = \"minitwit\"\n",
    "\n",
    "--------------------------------------------------\n",
    ">> Issue: [B105:hardcoded_password_string] Possible hardcoded password: 'development key'\n",
    "   Severity: Low   Confidence: Medium\n",
    "   Location: minitwit_mysql.py:45\n",
    "   More Info: https://bandit.readthedocs.io/en/latest/plugins/b105_hardcoded_password_string.html\n",
    "44\tDEBUG = True\n",
    "45\tSECRET_KEY = \"development key\"\n",
    "46\n",
    "47\t# create our little application :)\n",
    "48\tapp = Flask(__name__)\n",
    "\n",
    "--------------------------------------------------\n",
    ">> Issue: [B608:hardcoded_sql_expressions] Possible SQL injection vector through string-based query construction.\n",
    "   Severity: Medium   Confidence: Medium\n",
    "   Location: minitwit_mysql.py:89\n",
    "   More Info: https://bandit.readthedocs.io/en/latest/plugins/b608_hardcoded_sql_expressions.html\n",
    "88\t    cur.execute(\n",
    "89\t        \"select user_id from user where username = '{}'\".format(username)\n",
    "90\t    )\n",
    "\n",
    "--------------------------------------------------\n",
    ">> Issue: [B303:blacklist] Use of insecure MD2, MD4, MD5, or SHA1 hash function.\n",
    "   Severity: Medium   Confidence: High\n",
    "   Location: minitwit_mysql.py:104\n",
    "   More Info: https://bandit.readthedocs.io/en/latest/blacklists/blacklist_calls.html#b303-md5\n",
    "103\t    return \"http://www.gravatar.com/avatar/%s?d=identicon&s=%d\" % (\n",
    "104\t        md5(email.strip().lower().encode(\"utf-8\")).hexdigest(),\n",
    "105\t        size,\n",
    "\n",
    "--------------------------------------------------\n",
    ">> Issue: [B608:hardcoded_sql_expressions] Possible SQL injection vector through string-based query construction.\n",
    "   Severity: Medium   Confidence: Low\n",
    "   Location: minitwit_mysql.py:118\n",
    "   More Info: https://bandit.readthedocs.io/en/latest/plugins/b608_hardcoded_sql_expressions.html\n",
    "117\t        g.user = query_db(\n",
    "118\t            \"select * from user where user_id = '{}'\".format(session[\"user_id\"]),\n",
    "119\t            one=True,\n",
    "\n",
    "--------------------------------------------------\n",
    ">> Issue: [B608:hardcoded_sql_expressions] Possible SQL injection vector through string-based query construction.\n",
    "   Severity: Medium   Confidence: Low\n",
    "   Location: minitwit_mysql.py:147\n",
    "   More Info: https://bandit.readthedocs.io/en/latest/plugins/b608_hardcoded_sql_expressions.html\n",
    "146\t                                    where who_id = {}))\n",
    "147\t        order by message.pub_date desc limit {}\"\"\"\n",
    "148\t            .format(session[\"user_id\"], session[\"user_id\"], PER_PAGE),\n",
    "\n",
    "--------------------------------------------------\n",
    ">> Issue: [B608:hardcoded_sql_expressions] Possible SQL injection vector through string-based query construction.\n",
    "   Severity: Medium   Confidence: Low\n",
    "   Location: minitwit_mysql.py:161\n",
    "   More Info: https://bandit.readthedocs.io/en/latest/plugins/b608_hardcoded_sql_expressions.html\n",
    "160\t        where message.flagged = 0 and message.author_id = user.user_id\n",
    "161\t        order by message.pub_date desc limit {}\"\"\".format(PER_PAGE)),\n",
    "162\t    )\n",
    "\n",
    "--------------------------------------------------\n",
    ">> Issue: [B608:hardcoded_sql_expressions] Possible SQL injection vector through string-based query construction.\n",
    "   Severity: Medium   Confidence: Low\n",
    "   Location: minitwit_mysql.py:169\n",
    "   More Info: https://bandit.readthedocs.io/en/latest/plugins/b608_hardcoded_sql_expressions.html\n",
    "168\t    profile_user = query_db(\n",
    "169\t        \"select * from user where username = '{}'\".format(username), one=True\n",
    "170\t    )\n",
    "\n",
    "--------------------------------------------------\n",
    ">> Issue: [B608:hardcoded_sql_expressions] Possible SQL injection vector through string-based query construction.\n",
    "   Severity: Medium   Confidence: Low\n",
    "   Location: minitwit_mysql.py:178\n",
    "   More Info: https://bandit.readthedocs.io/en/latest/plugins/b608_hardcoded_sql_expressions.html\n",
    "177\t                \"\"\"select 1 from follower where\n",
    "178\t            follower.who_id = {} and follower.whom_id = {}\"\"\".format(session[\"user_id\"], profile_user[\"user_id\"]),\n",
    "179\t                one=True,\n",
    "\n",
    "--------------------------------------------------\n",
    ">> Issue: [B608:hardcoded_sql_expressions] Possible SQL injection vector through string-based query construction.\n",
    "   Severity: Medium   Confidence: Low\n",
    "   Location: minitwit_mysql.py:189\n",
    "   More Info: https://bandit.readthedocs.io/en/latest/plugins/b608_hardcoded_sql_expressions.html\n",
    "188\t            user.user_id = message.author_id and user.user_id = {}\n",
    "189\t            order by message.pub_date desc limit {}\"\"\".format(profile_user[\"user_id\"], PER_PAGE),\n",
    "190\t        ),\n",
    "\n",
    "--------------------------------------------------\n",
    ">> Issue: [B608:hardcoded_sql_expressions] Possible SQL injection vector through string-based query construction.\n",
    "   Severity: Medium   Confidence: Medium\n",
    "   Location: minitwit_mysql.py:206\n",
    "   More Info: https://bandit.readthedocs.io/en/latest/plugins/b608_hardcoded_sql_expressions.html\n",
    "205\t    cur.execute(\n",
    "206\t        \"insert into follower (who_id, whom_id) values ({}, {})\".format(session[\"user_id\"], whom_id),\n",
    "207\t    )\n",
    "\n",
    "--------------------------------------------------\n",
    ">> Issue: [B608:hardcoded_sql_expressions] Possible SQL injection vector through string-based query construction.\n",
    "   Severity: Medium   Confidence: Medium\n",
    "   Location: minitwit_mysql.py:223\n",
    "   More Info: https://bandit.readthedocs.io/en/latest/plugins/b608_hardcoded_sql_expressions.html\n",
    "222\t    cur.execute(\n",
    "223\t        \"delete from follower where who_id={} and whom_id={}\".format(session[\"user_id\"], whom_id),\n",
    "224\t    )\n",
    "\n",
    "--------------------------------------------------\n",
    ">> Issue: [B608:hardcoded_sql_expressions] Possible SQL injection vector through string-based query construction.\n",
    "   Severity: Medium   Confidence: Medium\n",
    "   Location: minitwit_mysql.py:239\n",
    "   More Info: https://bandit.readthedocs.io/en/latest/plugins/b608_hardcoded_sql_expressions.html\n",
    "238\t            \"\"\"insert into message (author_id, text, pub_date, flagged)\n",
    "239\t            values ({}, '{}', {}, 0)\"\"\".format(session[\"user_id\"], request.form[\"text\"], int(time.time())),\n",
    "240\t        )\n",
    "\n",
    "--------------------------------------------------\n",
    ">> Issue: [B608:hardcoded_sql_expressions] Possible SQL injection vector through string-based query construction.\n",
    "   Severity: Medium   Confidence: Low\n",
    "   Location: minitwit_mysql.py:255\n",
    "   More Info: https://bandit.readthedocs.io/en/latest/plugins/b608_hardcoded_sql_expressions.html\n",
    "254\t            \"\"\"select * from user where\n",
    "255\t            username = '{}'\"\"\".format(request.form[\"username\"]),\n",
    "256\t            one=True,\n",
    "\n",
    "--------------------------------------------------\n",
    ">> Issue: [B608:hardcoded_sql_expressions] Possible SQL injection vector through string-based query construction.\n",
    "   Severity: Medium   Confidence: Low\n",
    "   Location: minitwit_mysql.py:289\n",
    "   More Info: https://bandit.readthedocs.io/en/latest/plugins/b608_hardcoded_sql_expressions.html\n",
    "288\t            query = \"\"\"insert into user (\n",
    "289\t                username, email, pw_hash) values ('{}', '{}', '{}')\"\"\".format(\n",
    "290\t                    request.form[\"username\"],\n",
    "\n",
    "--------------------------------------------------\n",
    ">> Issue: [B104:hardcoded_bind_all_interfaces] Possible binding to all interfaces.\n",
    "   Severity: Medium   Confidence: Medium\n",
    "   Location: minitwit_mysql.py:314\n",
    "   More Info: https://bandit.readthedocs.io/en/latest/plugins/b104_hardcoded_bind_all_interfaces.html\n",
    "313\tif __name__ == \"__main__\":\n",
    "314\t    app.run(host=\"0.0.0.0\", port=5000)\n",
    "\n",
    "--------------------------------------------------\n",
    "\n",
    "Code scanned:\n",
    "\tTotal lines of code: 251\n",
    "\tTotal lines skipped (#nosec): 0\n",
    "\n",
    "Run metrics:\n",
    "\tTotal issues (by severity):\n",
    "\t\tUndefined: 0.0\n",
    "\t\tLow: 2.0\n",
    "\t\tMedium: 14.0\n",
    "\t\tHigh: 0.0\n",
    "\tTotal issues (by confidence):\n",
    "\t\tUndefined: 0.0\n",
    "\t\tLow: 8.0\n",
    "\t\tMedium: 7.0\n",
    "\t\tHigh: 1.0\n",
    "Files skipped (0):\n",
    "```"
   ]
  },
  {
   "cell_type": "markdown",
   "metadata": {
    "slideshow": {
     "slide_type": "subslide"
    }
   },
   "source": [
    "### [Black](https://github.com/psf/black)\n",
    "\n",
    "  > Black is the uncompromising Python code formatter. By using it, you agree to cede control over minutiae of hand-formatting. In return, Black gives you speed, determinism, and freedom from `pycodestyle` nagging about formatting. You will save time and mental energy for more important matters.\n",
    "  >\n",
    "  > https://github.com/psf/black\n",
    "  \n",
    "  \n",
    "```\n",
    "$ black minitwit_mysql.py\n",
    "reformatted minitwit_mysql.py\n",
    "All done! ✨ 🍰 ✨\n",
    "1 file reformatted.\n",
    "```"
   ]
  },
  {
   "cell_type": "markdown",
   "metadata": {
    "slideshow": {
     "slide_type": "skip"
    }
   },
   "source": [
    "The above tool presentation is inspired by https://luminousmen.com/post/python-static-analysis-tools"
   ]
  },
  {
   "cell_type": "markdown",
   "metadata": {
    "slideshow": {
     "slide_type": "slide"
    }
   },
   "source": [
    "-------\n",
    "\n",
    "# Student Group Presentations\n",
    "\n",
    "\n",
    "![](https://thumbs.gfycat.com/UniqueGeneralFieldmouse.webp)\n",
    "\n",
    "\n",
    "  * `<master>` (group a)\n",
    "  * `2k20 MSc` (group b)\n",
    "  * `U buntu?` (group c)\n",
    "  * `Fuld smadder` (group h)\n",
    "  * `LazyOps - Semi manual CI/CD` (group e)\n",
    "  * `noname` (group j)\n",
    "  * `Blanao` (group l)\n",
    "  "
   ]
  },
  {
   "cell_type": "markdown",
   "metadata": {
    "slideshow": {
     "slide_type": "slide"
    }
   },
   "source": [
    "-----------\n",
    "\n",
    "\n",
    "# Your turn now!\n",
    "\n",
    "<img src=\"https://media.giphy.com/media/13GIgrGdslD9oQ/giphy.gif\" width=50%/>\n",
    "\n",
    "  - [1) Refactoring for Clean Subsystem Interfaces](#1\\)-Refactoring-for-Clean-Subsystem-Interfaces)\n",
    "  - [2) Enhance your CI Pipelines with at least two static analysis tools](#2\\)-Enhance-your-CI-Pipelines-with-at-least-two-static-analysis-tools)\n",
    "  - [3) Software Maintenance](#2\\)-Software-Maintenance)\n"
   ]
  },
  {
   "cell_type": "markdown",
   "metadata": {
    "slideshow": {
     "slide_type": "subslide"
    }
   },
   "source": [
    "## 1) Refactoring for Clean Subsystem Interfaces\n",
    "\n",
    "Your task until next week is to refactor at least one central interface in between sub-systems of your _ITU-MiniTwit_. Take either of the two examples from class (interface within programming language or web API) as foundation of your refactoring."
   ]
  },
  {
   "cell_type": "markdown",
   "metadata": {
    "slideshow": {
     "slide_type": "subslide"
    }
   },
   "source": [
    "## 2) Enhance your CI Pipelines with at least two static analysis tools\n",
    "\n",
    "Choose and include at least two static analysis tools into your CI/CD pipelines. You might want to start searching for relevant tools for your respective languages and frameworks here: https://github.com/mre/awesome-static-analysis.\n",
    "\n",
    "Include them in a way that you either abort build in case quality of your code is too low (you will have to define some threshold here) or that you decide to trust them and let the tools try to automatically fix problems (in case you find a tool that supports that).\n",
    "\n",
    "In the latter case, you want top let the corresponding tool contribute the applied changes back to the corresponding source repository."
   ]
  },
  {
   "cell_type": "markdown",
   "metadata": {
    "slideshow": {
     "slide_type": "subslide"
    }
   },
   "source": [
    "## 3) Software Maintenance \n",
    "\n",
    "We are in maintenance. That is, fix issues of your version of _ITU-MiniTwit_ as soon as possible. Either issues that you find via your monitoring or those that you observe under: http://142.93.104.18/status.html"
   ]
  }
 ],
 "metadata": {
  "celltoolbar": "Slideshow",
  "kernelspec": {
   "display_name": "Python 3",
   "language": "python",
   "name": "python3"
  },
  "language_info": {
   "codemirror_mode": {
    "name": "ipython",
    "version": 3
   },
   "file_extension": ".py",
   "mimetype": "text/x-python",
   "name": "python",
   "nbconvert_exporter": "python",
   "pygments_lexer": "ipython3",
   "version": "3.7.3"
  }
 },
 "nbformat": 4,
 "nbformat_minor": 2
}
