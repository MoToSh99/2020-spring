{
 "cells": [
  {
   "cell_type": "markdown",
   "metadata": {
    "slideshow": {
     "slide_type": "slide"
    }
   },
   "source": [
    "![](https://www.saa-authors.eu/picture/739/ftw_768/saa-mtcwmza4nzq5mq.jpg)"
   ]
  },
  {
   "cell_type": "markdown",
   "metadata": {
    "slideshow": {
     "slide_type": "slide"
    }
   },
   "source": [
    "# Recap\n"
   ]
  },
  {
   "cell_type": "markdown",
   "metadata": {
    "slideshow": {
     "slide_type": "subslide"
    }
   },
   "source": [
    "##  Time\n",
    "  \n",
    "  * Thank you for your feedback last time!\n",
    "  * Issue with how much time you use.\n",
    "  * Many wished for more time during sessions to work freely.\n",
    "  * Therefore, from now on I will use max. 3 * 45min per session plus breaks for content."
   ]
  },
  {
   "cell_type": "markdown",
   "metadata": {
    "slideshow": {
     "slide_type": "subslide"
    }
   },
   "source": [
    "## The Simulator starts today!\n",
    "\n",
    "Send again a pull request to `repositories.py` in our central repository: https://github.com/itu-devops/2020-spring/blob/master/repositories.py!\n",
    "\n",
    "Only half of the groups have done so yet.\n",
    "\n",
    "Add two URLs:\n",
    "\n",
    "  * One to your running applications (edit `\"http://<minitwit_application_url>\"`)\n",
    "  * Another one to the simulator API endpoint (edit `\"http://<sim_api_url>\"`)\n",
    "  \n"
   ]
  },
  {
   "cell_type": "markdown",
   "metadata": {
    "slideshow": {
     "slide_type": "subslide"
    }
   },
   "source": [
    "## What did we do so far?"
   ]
  },
  {
   "cell_type": "markdown",
   "metadata": {
    "slideshow": {
     "slide_type": "fragment"
    }
   },
   "source": [
    "![](../session_04/images/CICD_Setup.png)\n"
   ]
  },
  {
   "cell_type": "markdown",
   "metadata": {
    "slideshow": {
     "slide_type": "subslide"
    }
   },
   "source": [
    "## Why did we do it?\n",
    "\n",
    "   * Save time setting up \"stuff\" the same way --> save money.\n",
    "   * Reduce downtime & increase stability, reduced human errors \n",
    "   * Deploy fast deploy often --> easy to revert back"
   ]
  },
  {
   "cell_type": "markdown",
   "metadata": {
    "slideshow": {
     "slide_type": "subslide"
    }
   },
   "source": [
    "  * Improved Productivity and Efficiency\n",
    "     - For example, developers used to spend 20% of their time setting up and fixing their test environments. Now, the CD pipeline automatically sets up the environments. \n",
    "     - testers used to spend considerable effort setting up their test environments. Now, they don’t need to do this, either.\n",
    "     - Operations engineers used to take a few days’ effort to release an application to production. Now, they only need to click a button; the pipeline automatically releases the application to production.\n",
    "  * More Reliable Releases\n",
    "  \n",
    "Condensed from [Continuous Delivery: Huge Benefits, but Challenges Too](https://www.researchgate.net/profile/Lianping_Chen/publication/271635510_Continuous_Delivery_Huge_Benefits_but_Challenges_Too/links/551d850a0cf2a2d9e13aec8f/Continuous-Delivery-Huge-Benefits-but-Challenges-Too.pdf)\n",
    "\n",
    "\n"
   ]
  },
  {
   "cell_type": "markdown",
   "metadata": {
    "slideshow": {
     "slide_type": "subslide"
    }
   },
   "source": [
    "# What is DevOps?"
   ]
  },
  {
   "cell_type": "markdown",
   "metadata": {
    "slideshow": {
     "slide_type": "subslide"
    }
   },
   "source": [
    "## Hell a lot of blog posts about it...\n",
    "\n",
    "  > Think of developers being able to do some of the tasks that are normally assigned to system administrators, such as creating new servers, making updates to production sites, deploying apps. Also think of sysadmins sharing some duties with developers, and being able to manage multiple servers at once.\n",
    "  >\n",
    "  > See https://www.sitepoint.com/devops-by-example-tools-pros-and-cons-of-a-devops-culture/"
   ]
  },
  {
   "cell_type": "markdown",
   "metadata": {
    "slideshow": {
     "slide_type": "subslide"
    }
   },
   "source": [
    "<img src=\"https://upload.wikimedia.org/wikipedia/commons/b/b5/Devops.svg\" width=\"50%\"/>"
   ]
  },
  {
   "cell_type": "markdown",
   "metadata": {
    "slideshow": {
     "slide_type": "subslide"
    }
   },
   "source": [
    "<img src=\"https://upload.wikimedia.org/wikipedia/commons/0/05/Devops-toolchain.svg\" width=\"50%\"/>"
   ]
  },
  {
   "cell_type": "markdown",
   "metadata": {
    "slideshow": {
     "slide_type": "subslide"
    }
   },
   "source": [
    "## Problem:\n",
    "\n",
    "  > No standard definition exists for DevOps.\n",
    "  >\n",
    "  > [Adopting DevOps Practices in Quality Assurance](https://queue.acm.org/detail.cfm?id=2540984)"
   ]
  },
  {
   "cell_type": "markdown",
   "metadata": {
    "slideshow": {
     "slide_type": "subslide"
    }
   },
   "source": [
    "## Possible solution:\n",
    "\n",
    "We look at two publications:\n",
    "\n",
    "  a) [What is DevOps? A Systematic Mapping Study onDefinitions and Practices](https://www.researchgate.net/profile/Ramtin_Jabbari/publication/308857081_What_is_DevOps_A_Systematic_Mapping_Study_on_Definitions_and_Practices/links/5aa2ae9145851543e63c223a/What-is-DevOps-A-Systematic-Mapping-Study-on-Definitions-and-Practices.pdf)\n",
    "  \n",
    "  b) [The DevOps Handbook: How to Create World-Class Agility, Reliability, and Security in Technology Organizations](https://www.oreilly.com/library/view/the-devops-handbook/9781457191381/)"
   ]
  },
  {
   "cell_type": "markdown",
   "metadata": {
    "slideshow": {
     "slide_type": "subslide"
    }
   },
   "source": [
    "b) [The DevOps Handbook: How to Create World-Class Agility, Reliability, and Security in Technology Organizations](https://www.oreilly.com/library/view/the-devops-handbook/9781457191381/) describes more what is characteristic for DevOps processes."
   ]
  },
  {
   "cell_type": "markdown",
   "metadata": {
    "slideshow": {
     "slide_type": "subslide"
    }
   },
   "source": [
    "### What is DevOps? A Systematic Mapping Study onDefinitions and Practices"
   ]
  },
  {
   "cell_type": "markdown",
   "metadata": {
    "slideshow": {
     "slide_type": "subslide"
    }
   },
   "source": [
    "The study does the following:\n",
    "\n",
    "  > * Analyze and compare definitions of DevOps from the research literature.\n",
    "  > * Identify and classify practices associated with DevOps.\n",
    "  > * Compare DevOps with other development methods."
   ]
  },
  {
   "cell_type": "markdown",
   "metadata": {
    "slideshow": {
     "slide_type": "subslide"
    }
   },
   "source": [
    "Analyzes 117 publications and creates a wordcloud for the given definitions:\n",
    "\n",
    "![](images/definition_wordcloud.png)"
   ]
  },
  {
   "cell_type": "markdown",
   "metadata": {
    "slideshow": {
     "slide_type": "subslide"
    }
   },
   "source": [
    "![](images/defintion_components.png)"
   ]
  },
  {
   "cell_type": "markdown",
   "metadata": {
    "slideshow": {
     "slide_type": "subslide"
    }
   },
   "source": [
    "![](images/devops_practices.png)"
   ]
  },
  {
   "cell_type": "markdown",
   "metadata": {
    "slideshow": {
     "slide_type": "subslide"
    }
   },
   "source": [
    "### A Possible Definition\n",
    "\n",
    "  > DevOps is  a  development  methodology aimed  at  bridging  the gap between Development (Dev) and Operations, emphasizing communication and collaboration, continuous  integration,  quality  assurance and  delivery with automated deployment utilizing a set of development practices.\n",
    "  >\n",
    "  > [What is DevOps? A Systematic Mapping Study onDefinitions and Practices](https://www.researchgate.net/profile/Ramtin_Jabbari/publication/308857081_What_is_DevOps_A_Systematic_Mapping_Study_on_Definitions_and_Practices/links/5aa2ae9145851543e63c223a/What-is-DevOps-A-Systematic-Mapping-Study-on-Definitions-and-Practices.pdf)\n",
    "  \n",
    "--------------------"
   ]
  },
  {
   "cell_type": "markdown",
   "metadata": {
    "slideshow": {
     "slide_type": "subslide"
    }
   },
   "source": [
    "### The DevOps Handbook: How to Create World-Class Agility, Reliability, and Security in Technology Organizations\n",
    "\n",
    "They characterize DevOps by \"_Three Ways_\": \n",
    "\n",
    "  * Flow\n",
    "  * Feedback\n",
    "  * Continual Learning and Experimentation"
   ]
  },
  {
   "cell_type": "markdown",
   "metadata": {
    "slideshow": {
     "slide_type": "subslide"
    }
   },
   "source": [
    "![](https://2wded2jn6ekmzt6b3ruvnh15-wpengine.netdna-ssl.com/wp-content/uploads/2017/10/Three-Ways-470-x-670-px.png)"
   ]
  },
  {
   "cell_type": "markdown",
   "metadata": {
    "slideshow": {
     "slide_type": "subslide"
    }
   },
   "source": [
    "A manufacturing value stream can be observed as the flow of work/material through on the factory floor. \n",
    "\n",
    "\n",
    "Problem in our domain: work is usually invisible."
   ]
  },
  {
   "cell_type": "markdown",
   "metadata": {
    "slideshow": {
     "slide_type": "subslide"
    }
   },
   "source": [
    "  > Value occurs for customers when services are running in production and deployments happen swiftly without causing disruptions.\n",
    "  >\n",
    "  > https://caylent.com/devops-handbook-part-1-the-three-ways-2"
   ]
  },
  {
   "cell_type": "markdown",
   "metadata": {
    "slideshow": {
     "slide_type": "slide"
    }
   },
   "source": [
    "DevOps focuses on shortening deployment lead time to a period of minutes. \n",
    "\n",
    "![](https://2wded2jn6ekmzt6b3ruvnh15-wpengine.netdna-ssl.com/wp-content/uploads/2017/10/Leadtime-high-res-768x289.png)"
   ]
  },
  {
   "cell_type": "markdown",
   "metadata": {
    "slideshow": {
     "slide_type": "subslide"
    }
   },
   "source": [
    "####  The Principles of *Flow*\n",
    "\n",
    "\n",
    "  * Make Work Visible\n",
    "  ![](images/make_work_visible.png)\n"
   ]
  },
  {
   "cell_type": "markdown",
   "metadata": {
    "slideshow": {
     "slide_type": "fragment"
    }
   },
   "source": [
    "  \n",
    "  * Limit Work in Progress\n"
   ]
  },
  {
   "cell_type": "markdown",
   "metadata": {
    "slideshow": {
     "slide_type": "fragment"
    }
   },
   "source": [
    "  * Reduce Batch Sizes\n",
    "  \n",
    "  ![](https://miro.medium.com/max/1318/1*YtshITZLqxYGzfYBHqTZNA.gif)"
   ]
  },
  {
   "cell_type": "markdown",
   "metadata": {
    "slideshow": {
     "slide_type": "subslide"
    }
   },
   "source": [
    "  * Reduce the Number of Handoffs\n",
    "  * Continually Identify and Evaluate Constraints\n",
    "  * Eliminate Hardships and Waste in the Value Stream"
   ]
  },
  {
   "cell_type": "markdown",
   "metadata": {
    "slideshow": {
     "slide_type": "subslide"
    }
   },
   "source": [
    "####  The Principles of *Feedback*\n",
    "\n",
    "  * See Problems as They Occur\n",
    "  * Swarm and Solve Problems to Build New Knowledge\n",
    "  * Keep Pushing Quality Closer to the Source\n",
    "  * Enable Optimizing for Downstream Work Centers"
   ]
  },
  {
   "cell_type": "markdown",
   "metadata": {
    "slideshow": {
     "slide_type": "subslide"
    }
   },
   "source": [
    "####  The Principles of *Continual Learning and Experimentation*\n",
    "\n",
    "  * Institutionalize the Improvement of Daily Work\n",
    "  * Transform Local Discoveries into Global Improvements\n",
    "  * Inject Resilience Patterns into Our Daily Work\n",
    "  * Leaders Reinforce a Learning Culture\n"
   ]
  },
  {
   "cell_type": "markdown",
   "metadata": {
    "slideshow": {
     "slide_type": "slide"
    }
   },
   "source": [
    "-----------\n",
    "\n",
    "\n",
    "# Your turn now!\n",
    "\n",
    "<img src=\"https://media.giphy.com/media/13GIgrGdslD9oQ/giphy.gif\" width=50%/>\n",
    "\n",
    "  - [The Simulator starts today! - Send a PR with your URLs](1\\)-The-Simulator-starts-today!---Send-a-PR-with-your-URLs)\n",
    "  - [2) Software Maintenance](#Software-Maintenance)\n"
   ]
  },
  {
   "cell_type": "markdown",
   "metadata": {
    "slideshow": {
     "slide_type": "subslide"
    }
   },
   "source": [
    "## 1) The Simulator starts today! - Send a PR with your URLs\n",
    "\n",
    "Send again a pull request to `repositories.py` in our central repository: https://github.com/itu-devops/2020-spring/blob/master/repositories.py!\n",
    "\n",
    "Only half of the groups have done so yet.\n",
    "\n",
    "Add two URLs:\n",
    "\n",
    "  * One to your running applications (edit `\"http://<minitwit_application_url>\"`)\n",
    "  * Another one to the simulator API endpoint (edit `\"http://<sim_api_url>\"`)\n",
    "  \n"
   ]
  },
  {
   "cell_type": "markdown",
   "metadata": {
    "slideshow": {
     "slide_type": "subslide"
    }
   },
   "source": [
    "## Software Maintenance \n",
    "\n",
    "From now on were are in maintenance. That is, fix issues of your version of _ITU-MiniTwit_ as soon as possible."
   ]
  }
 ],
 "metadata": {
  "celltoolbar": "Slideshow",
  "kernelspec": {
   "display_name": "Python 3",
   "language": "python",
   "name": "python3"
  },
  "language_info": {
   "codemirror_mode": {
    "name": "ipython",
    "version": 3
   },
   "file_extension": ".py",
   "mimetype": "text/x-python",
   "name": "python",
   "nbconvert_exporter": "python",
   "pygments_lexer": "ipython3",
   "version": "3.7.3"
  }
 },
 "nbformat": 4,
 "nbformat_minor": 2
}
