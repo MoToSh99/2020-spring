{
 "cells": [
  {
   "cell_type": "markdown",
   "metadata": {
    "slideshow": {
     "slide_type": "slide"
    }
   },
   "source": [
    "![](https://www.saa-authors.eu/picture/739/ftw_768/saa-mtcwmza4nzq5mq.jpg)"
   ]
  },
  {
   "cell_type": "markdown",
   "metadata": {
    "slideshow": {
     "slide_type": "slide"
    }
   },
   "source": [
    "# Recap\n"
   ]
  },
  {
   "cell_type": "markdown",
   "metadata": {
    "slideshow": {
     "slide_type": "subslide"
    }
   },
   "source": [
    "## Mentimeter\n",
    "\n",
    "\n",
    "www.menti.com"
   ]
  },
  {
   "cell_type": "markdown",
   "metadata": {
    "slideshow": {
     "slide_type": "subslide"
    }
   },
   "source": [
    "# Guest lecture!\n",
    "\n",
    "![](https://www.praqma.com/images/people/sofusalbertsen.png)\n",
    "[Sofus](https://www.praqma.com/about/team/#sofusalbertsen) from [Eficode Praqma](https://www.praqma.com/)"
   ]
  },
  {
   "cell_type": "markdown",
   "metadata": {
    "slideshow": {
     "slide_type": "subslide"
    }
   },
   "source": [
    "## Activity Dashboard\n",
    "\n",
    "  * [Daily commit activity per group](http://64.225.103.230/commit_activity_daily.svg)\n",
    "  * [Weekly commit activity per group](http://64.225.103.230/commit_activity_weekly.svg)\n",
    "  * [Weekly release activity per group](http://64.225.103.230/release_activity_weekly.svg)"
   ]
  },
  {
   "cell_type": "markdown",
   "metadata": {
    "slideshow": {
     "slide_type": "subslide"
    }
   },
   "source": [
    "## Questions"
   ]
  },
  {
   "cell_type": "markdown",
   "metadata": {
    "slideshow": {
     "slide_type": "fragment"
    }
   },
   "source": [
    "  - IaaS vs PaaS? What to choose?"
   ]
  },
  {
   "cell_type": "markdown",
   "metadata": {
    "slideshow": {
     "slide_type": "fragment"
    }
   },
   "source": [
    "  - Where are the lecture recordings?"
   ]
  },
  {
   "cell_type": "markdown",
   "metadata": {
    "slideshow": {
     "slide_type": "subslide"
    }
   },
   "source": [
    "## Questions regarding simulator"
   ]
  },
  {
   "cell_type": "markdown",
   "metadata": {
    "slideshow": {
     "slide_type": "subslide"
    }
   },
   "source": [
    "  > Is it correct that the login page does not have any API defined for the simulator?"
   ]
  },
  {
   "cell_type": "markdown",
   "metadata": {
    "slideshow": {
     "slide_type": "subslide"
    }
   },
   "source": [
    "  > [...] My question is: how can we ensure that our database is empty when the simulator (at any time) is being run against our endpoint, and that is only being done *once*.\n"
   ]
  },
  {
   "cell_type": "markdown",
   "metadata": {
    "slideshow": {
     "slide_type": "subslide"
    }
   },
   "source": [
    "  > 2. I think that it is a bit _too_ strict to require that our endpoint replies within 300ms. We switched to a new DB solution _just_ to be able to handle the 25K requests on local host without any errors, but it is a different story when it is hosted in the cloud which introduces some latency overhead. With our setup, we log ~70 connection/timeout errors."
   ]
  },
  {
   "cell_type": "markdown",
   "metadata": {
    "slideshow": {
     "slide_type": "subslide"
    }
   },
   "source": [
    "#### When does it start precisely?\n",
    "\n",
    "Send again a pull request to `repositories.py` in our central repository: https://github.com/itu-devops/2020-spring/blob/master/repositories.py\n",
    "\n",
    "Add two URL links:\n",
    "\n",
    "  * One to your running applications (edit `\"http://<minitwit_application_url>\"`)\n",
    "  * Another one to the simulator API endpoint (edit `\"http://<sim_api_url>\"`)\n",
    "  \n",
    "\n"
   ]
  },
  {
   "cell_type": "markdown",
   "metadata": {},
   "source": [
    "-------------"
   ]
  },
  {
   "cell_type": "markdown",
   "metadata": {
    "slideshow": {
     "slide_type": "slide"
    }
   },
   "source": [
    "# Motivation - Deploying software can be scary.\n",
    "\n",
    "\n",
    "<img src=\"http://media.giphy.com/media/DHujNQWc9XjRC/giphy.gif\" width=\"50%\">\n",
    "\n",
    "\n",
    "You can break things, tests will fail, colleagues might get angry, etc.\n",
    "\n",
    "However, by establishing an infrastructure that let's you deploy and deliver easily and continuously can help reducing those fears that many developers have. It allows you to deploy frequently without any manual intervention. In particular, when things go wrong you just deploy a fix quickly and easily."
   ]
  },
  {
   "cell_type": "markdown",
   "metadata": {
    "slideshow": {
     "slide_type": "subslide"
    }
   },
   "source": [
    "\n",
    "# How can you Deploy?"
   ]
  },
  {
   "cell_type": "markdown",
   "metadata": {
    "slideshow": {
     "slide_type": "subslide"
    }
   },
   "source": [
    "  * Not at all, I work on the server...\n",
    "  * Manually, via SSH/SCP\n",
    "  * Via scripted flows\n",
    "  * Via build systems"
   ]
  },
  {
   "cell_type": "markdown",
   "metadata": {
    "slideshow": {
     "slide_type": "subslide"
    }
   },
   "source": [
    "An example of a `Makefile` that builds and deploys a homepage via SCP.\n",
    "\n",
    "```\n",
    ".SILENT:  # do not echo commands\n",
    "\n",
    "build:\n",
    "        ./build.sh\n",
    "\n",
    "serve:\n",
    "        cd public\n",
    "        open index.html\n",
    "        python -m http.server\n",
    "\n",
    "all: build\n",
    "        git add -A && git commit -m \"Automatic predeploy commit on `date \"+%Y-%m-%d_%H:%M:%S\"`\"\n",
    "        git push origin master\n",
    "        scp -r public/* me@server.itu.dk:/import/home/me/public_html\n",
    "\n",
    "deploy: build\n",
    "        scp -r public/* me@server.dk:/import/home/me/public_html\n",
    "```"
   ]
  },
  {
   "cell_type": "markdown",
   "metadata": {
    "slideshow": {
     "slide_type": "subslide"
    }
   },
   "source": [
    "\n",
    "# How do Companies Deploy?"
   ]
  },
  {
   "cell_type": "markdown",
   "metadata": {
    "slideshow": {
     "slide_type": "fragment"
    }
   },
   "source": [
    "## Github\n",
    "\n",
    "  > We are constantly deploying at GitHub. Dozens of times a day.\n",
    "  > \n",
    "  > Any employee can deploy to production from Campfire with a single message. When someone pushes to master, after watching the tests pass, they're encouraged to immediately deploy to production. This way, everyone is responsible for their own code being production-ready, and people don't have to worry about pushing someone else's code and breaking production.\n",
    "  > \n",
    "  > Recently, this process got even better. Now, after someone pushes to master and the tests pass, master is deployed to production automatically. We have ways of preventing this from happening (an employee can temporarily lock deployment while they're collecting data, for example), but by default, production is always up-to-date with master.\n",
    "  > \n",
    "  > This is a fantastic way of doing things. Deploying constantly means we completely avoid giant scary \"deployment days\", and our fast and painless deployment process means we can quickly fix problems as they're discovered.\n",
    "  > \n",
    "  > Jake Boxer (https://www.quora.com/How-often-do-major-software-companies-such-as-Github-Facebook-Google-Quora-Pinterest-etc-push-code-to-production-Is-there-any-standard-pattern-of-release-cycle-which-any-company-can-follow)"
   ]
  },
  {
   "cell_type": "markdown",
   "metadata": {
    "slideshow": {
     "slide_type": "subslide"
    }
   },
   "source": [
    "## Amazon\n",
    "\n",
    "  > **Amazon May (2011) Deployment Stats (production hosts & environments only)**\n",
    "  >   \n",
    "  > * Mean time between deployments (weekday): 11.6 seconds\n",
    "  > * Max # of deployments in a single hour: 1,079\n",
    "  > * Mean # of hosts simultaneously receiving a deployment: 10,000\n",
    "  > * Max # of hosts simultaneously receiving a deployment: * 30,000\n",
    "  > http://assets.en.oreilly.com/1/event/60/Velocity%20Culture%20Presentation.pdf\n",
    "  \n",
    "  > **Results**\n",
    "  > * 75% reduction in outages triggered by software deployments since 2006\n",
    "  > * 90% reduction in outage minutes triggered by software deployments\n",
    "  > * ~0.001% of software deployments cause an outage\n",
    "  > * Instantaneous automated rollback\n",
    "  > * Reduction in complexity\n",
    "\n",
    "You can see the entire talk with these numbers here: http://www.youtube.com/watch?v=dxk8b9rSKOo\n",
    "  "
   ]
  },
  {
   "cell_type": "markdown",
   "metadata": {
    "slideshow": {
     "slide_type": "subslide"
    }
   },
   "source": [
    "## Facebook\n",
    "\n",
    "Facebook deploys:\n",
    "\n",
    "  * One minor update on most business days\n",
    "  * One major update on a weekly basis, usually Tuesdays\n",
    "\n",
    "\n",
    "https://arstechnica.com/information-technology/2012/04/exclusive-a-behind-the-scenes-look-at-facebook-release-engineering/"
   ]
  },
  {
   "cell_type": "markdown",
   "metadata": {
    "slideshow": {
     "slide_type": "slide"
    }
   },
   "source": [
    "# Okay, but how can we do this?\n",
    "\n",
    "There are many CI/CD solutions. In our following example we will have a closer look to Travis CI. However, you might consider an alternative technology. The following list should link you to some commonly used solutions.\n",
    "\n",
    "Self-hosted most often in bigger organizations and companies:\n",
    "\n",
    "  * [Jenkins](https://jenkins.io/index.html)\n",
    "  * [Bamboo](https://www.atlassian.com/software/bamboo)\n",
    "  * [TeamCity](https://www.jetbrains.com/teamcity/)\n",
    "  * [Concourse](https://concourse.ci)\n",
    "  * [Azure DevOps Server](https://azure.microsoft.com/en-us/services/devops/server/)\n",
    "  \n",
    "CI/CD as a service:\n",
    "\n",
    "  * [Travis CI](https://travis-ci.org/)\n",
    "  * [CircleCI](https://circleci.com)\n",
    "  * [Github Actions](https://github.com/features/actions)\n",
    "  * [Wercker](http://www.wercker.com)"
   ]
  },
  {
   "cell_type": "markdown",
   "metadata": {
    "slideshow": {
     "slide_type": "slide"
    }
   },
   "source": [
    "# A CI/CD Example Setup\n",
    "\n",
    "This is a guide on how to setup an example continuous integration (CI) chain using the following technologies and tools:\n",
    "\n",
    "  * the distributed version control system (VCS) Git (https://git-scm.com) and GitHub (https://github.com) as host,\n",
    "  * the build server service Travis CI (https://travis-ci.com/),\n",
    "  * Docker containers (https://www.docker.com) and DockerHub (https://hub.docker.com) as a public registry,\n",
    "  * Vagrant (https://www.vagrantup.com) to setup and manage virtual remote machines\n",
    "  * and the cloud server provider Digital Ocean (https://www.digitalocean.com).\n",
    "\n",
    "Note, the scenario was mainly created by you lovely TAs Christoffer and Zander (in alphabetical order)"
   ]
  },
  {
   "cell_type": "markdown",
   "metadata": {
    "slideshow": {
     "slide_type": "slide"
    }
   },
   "source": [
    "# Scenario\n",
    "\n",
    "We have the ITU-MiniTwit application. Now, it is using MySQL as DBMS instead of SQLite. The entire application is bundled in Docker images and run as single containers for now."
   ]
  },
  {
   "cell_type": "markdown",
   "metadata": {
    "slideshow": {
     "slide_type": "fragment"
    }
   },
   "source": [
    "![](images/CICD_Setup.png)\n"
   ]
  },
  {
   "cell_type": "markdown",
   "metadata": {
    "slideshow": {
     "slide_type": "subslide"
    }
   },
   "source": [
    "## Step 1 - Setup Artifacts Store\n",
    "\n",
    "![](images/CICD_Setup_1.png)\n"
   ]
  },
  {
   "cell_type": "markdown",
   "metadata": {
    "slideshow": {
     "slide_type": "subslide"
    }
   },
   "source": [
    "Alternatives are:\n",
    "\n",
    "  * [Artefactory](https://jfrog.com/artifactory/)\n",
    "  * [GitHub Packages](https://github.com/features/packages)\n",
    "  * The package store of your language [Maven Central Repository](https://search.maven.org/), [NuGet store](https://www.nuget.org/), [Python Package Index](https://pypi.org), [NPM store](https://www.npmjs.com/), etc.\n",
    "  * Any of the latter self-hosted\n",
    "  * Or perhaps just your VCS repository"
   ]
  },
  {
   "cell_type": "markdown",
   "metadata": {
    "slideshow": {
     "slide_type": "subslide"
    }
   },
   "source": [
    "## Step 2 - Setup Remote VM and Keys\n",
    "\n",
    "![](images/CICD_Setup_2.png)\n"
   ]
  },
  {
   "cell_type": "markdown",
   "metadata": {
    "slideshow": {
     "slide_type": "subslide"
    }
   },
   "source": [
    "## Step 3 - Building, Testing & Delivering  the Software\n",
    "\n",
    "![](images/CICD_Setup_3.png)"
   ]
  },
  {
   "cell_type": "markdown",
   "metadata": {
    "slideshow": {
     "slide_type": "subslide"
    }
   },
   "source": [
    "## Step 4 - Deploying  the Software\n",
    "\n",
    "![](images/CICD_Setup.png)"
   ]
  },
  {
   "cell_type": "markdown",
   "metadata": {},
   "source": [
    "    \n",
    "### Your Turn! -  `Today's Task`\n",
    "<img src=\"https://media.giphy.com/media/13GIgrGdslD9oQ/giphy.gif\" width=50%/>\n",
    "\n",
    "\n",
    "  - Navigate to https://github.com/itu-devops/itu-minitwit-ci and work through the scenario given in the `README.md` file.\n",
    "\n",
    "  - With your group fellows, make sure that you understand what you are doing in every step.\n"
   ]
  },
  {
   "cell_type": "markdown",
   "metadata": {
    "slideshow": {
     "slide_type": "slide"
    }
   },
   "source": [
    "# Reflection - How about the CI/CD Scenario?\n",
    "\n"
   ]
  },
  {
   "cell_type": "markdown",
   "metadata": {
    "slideshow": {
     "slide_type": "slide"
    }
   },
   "source": [
    "-----------\n",
    "\n",
    "\n",
    "# Your turn now!\n",
    "\n",
    "<img src=\"https://media.giphy.com/media/13GIgrGdslD9oQ/giphy.gif\" width=50%/>\n",
    "\n",
    "  - [1) Complete implementing an API for the simulator in your ITU-MiniTwit.](#1\\)-Complete-implementing-an-API-for-the-simulator-in-your-ITU-MiniTwit.)\n",
    "  - [2) Creating a CI/CD setup for your ITU-MiniTwit.](#2\\)-Creating-a-CI/CD-setup-for-your-ITU-MiniTwit.)"
   ]
  },
  {
   "cell_type": "markdown",
   "metadata": {
    "slideshow": {
     "slide_type": "subslide"
    }
   },
   "source": [
    "## 1) Complete implementing an API for the simulator in your _ITU-MiniTwit_.\n",
    "\n",
    "\n",
    "Next week, we will start a simulator that will run until the end of this course. It will simulate users using your micro-blogging platform.\n",
    "\n",
    "You can find the specification for the simulator API in \n",
    "`API Spec/minitwit_sim_api.py`. **OBS**: your applications have to:\n",
    "\n",
    "  - provide the same end points (on different hosts of course and potentially different ports),\n",
    "  - ingest the same HTTP requests, i.e., GETs and POSTs as specified with the same parameters and payloads as provided,\n",
    "  - provide at least the same HTTP status codes in response as specified.\n",
    "  \n",
    "  \n",
    "The `API Spec/minitwit_sim_api.py` depends on your refactored `minitwit.py` from last weeks' homework.\n",
    "\n",
    "A corresponding test (`API Spec/minitwit_sim_api_test.py`) illustrates how the simulator requests will be formed. You can inspect it and run it via `pytest minitwit_sim_api_test.py`. \n",
    "\n",
    "\n",
    "Next to the unit test, there is a small program with some more test data, which is similar to the simulator program that will run against your systems. It is located in `API Spec/minitwit_simulator.py` and can be run via:\n",
    "\n",
    "```bash\n",
    "$ python minitwit_simulator.py http://localhost:5001\n",
    "```\n",
    "\n",
    "where the argument `http://localhost:5001` has to be replaced with the URL of where you simulator API is running. In case this simulator test does not log any errors, you should be all fine for next week. If errors are logged, you have to likely fix the corresponding issue either in your implementation of the simulator API or in the implementation of your version of _ITU-MiniTwit_.\n",
    "\n"
   ]
  },
  {
   "cell_type": "markdown",
   "metadata": {
    "slideshow": {
     "slide_type": "subslide"
    }
   },
   "source": [
    "## 2) Creating a CI/CD setup for your _ITU-MiniTwit_.\n",
    "\n",
    "\n",
    "Until next week, create a CI/CD setup for your _ITU-MiniTwit_ development.\n",
    "\n",
    "  * You can freely choose your CI/CD system. BSc students are likely best served by adapting the example from the scenario from `Today's Task`. But in essence everybody can choose freely.\n",
    "  * **OBS MSc students**: Remember to log and provide good arguments for the choice of CI/CD system, i.e., why do you choose your solution instead of any other? \n",
    "  * You choose freely if you want to go for continuous delivery or continuous deployment. \n",
    "  * Let your build pipeline contain not only building your application but also execution of your test suite and other appropriate build stages.\n",
    "\n",
    "From now on create the (at least) weekly releases on Github automatically. Release that version of your _ITU-MiniTwit_ as it is in production.\n"
   ]
  }
 ],
 "metadata": {
  "celltoolbar": "Slideshow",
  "kernelspec": {
   "display_name": "Python 3",
   "language": "python",
   "name": "python3"
  },
  "language_info": {
   "codemirror_mode": {
    "name": "ipython",
    "version": 3
   },
   "file_extension": ".py",
   "mimetype": "text/x-python",
   "name": "python",
   "nbconvert_exporter": "python",
   "pygments_lexer": "ipython3",
   "version": "3.7.3"
  }
 },
 "nbformat": 4,
 "nbformat_minor": 2
}
